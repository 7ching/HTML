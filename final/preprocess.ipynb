{
 "cells": [
  {
   "cell_type": "markdown",
   "metadata": {},
   "source": [
    "# Preprocess for training data (X, y)"
   ]
  },
  {
   "cell_type": "code",
   "execution_count": 179,
   "metadata": {},
   "outputs": [],
   "source": [
    "import pandas as pd\n",
    "import numpy as np\n",
    "import matplotlib.pyplot as plt\n",
    "import seaborn as sns\n",
    "import joblib"
   ]
  },
  {
   "cell_type": "code",
   "execution_count": 180,
   "metadata": {},
   "outputs": [],
   "source": [
    "# to_drop = ['id', 'home_team_season', 'away_team_season', 'home_team_abbr', 'away_team_abbr']\n",
    "to_drop = ['id', 'home_team_season', 'away_team_season', 'home_pitcher', 'away_pitcher']"
   ]
  },
  {
   "cell_type": "code",
   "execution_count": null,
   "metadata": {},
   "outputs": [],
   "source": [
    "df = pd.read_csv(\"train_data.csv\")\n",
    "\n",
    "df = df.drop(columns=['date']+to_drop)"
   ]
  },
  {
   "cell_type": "code",
   "execution_count": null,
   "metadata": {},
   "outputs": [],
   "source": [
    "X = df.drop('home_team_win', axis=1)  # Features\n",
    "y = df['home_team_win']  # Label\n",
    "X.shape, y.shape"
   ]
  },
  {
   "cell_type": "code",
   "execution_count": null,
   "metadata": {},
   "outputs": [],
   "source": [
    "# 哪些是類別型欄位\n",
    "categorical_cols = X.select_dtypes(exclude=\"number\").columns\n",
    "print(\"Categorical columns:\")\n",
    "print(categorical_cols.tolist())\n",
    "# 哪些是數值型欄位\n",
    "numeric_cols = X.select_dtypes(include=\"number\").columns\n",
    "print(\"Numeric columns:\")\n",
    "print(numeric_cols.tolist())"
   ]
  },
  {
   "cell_type": "code",
   "execution_count": null,
   "metadata": {},
   "outputs": [],
   "source": [
    "# 處理類別型欄位缺失值\n",
    "# 處理 是否晚場賽事：眾數\n",
    "X['is_night_game'] = X['is_night_game'].fillna(X['is_night_game'].mode()[0])\n",
    "\n",
    "# 處理 主、客投手：Unknown\n",
    "# X['home_pitcher'] = X['home_pitcher'].fillna(\"Unknown\")\n",
    "# X['away_pitcher'] = X['away_pitcher'].fillna(\"Unknown\")\n",
    "\n",
    "# -------------------------------------------\n",
    "# 處理數值型欄位缺失值\n",
    "# 處理 休息天數 和 賽季：中位數\n",
    "rest_season_cols = ['home_team_rest', 'away_team_rest', 'home_pitcher_rest', \n",
    "                   'away_pitcher_rest', 'season']\n",
    "for col in rest_season_cols:\n",
    "    X[col] = X[col].fillna(X[col].median())\n",
    "\n",
    "# 處理 _10RA：平均數\n",
    "ra_cols = [col for col in numeric_cols if col.endswith('_10RA')]\n",
    "for col in ra_cols:\n",
    "    X[col] = X[col].fillna(X[col].mean())\n",
    "\n",
    "# 處理 統計數據：平均數\n",
    "stat_cols = [col for col in numeric_cols if col.endswith(('_mean', '_std', '_skew'))]\n",
    "for col in stat_cols:\n",
    "    X[col] = X[col].fillna(X[col].mean())"
   ]
  },
  {
   "cell_type": "code",
   "execution_count": null,
   "metadata": {},
   "outputs": [],
   "source": [
    "X.shape, y.shape"
   ]
  },
  {
   "cell_type": "code",
   "execution_count": 188,
   "metadata": {},
   "outputs": [],
   "source": [
    "from sklearn.preprocessing import LabelEncoder, OneHotEncoder\n",
    "\n",
    "# 添加主客隊勝率欄位\n",
    "home_win_rate = y.groupby([X['home_team_abbr'], X['season']]).mean().reset_index()\n",
    "home_win_rate = home_win_rate.rename(columns={'home_team_win': 'home_win_rate'})\n",
    "X = X.merge(home_win_rate, on=['home_team_abbr', 'season'], how='left')\n",
    "away_win_rate = (1 - y).groupby([X['away_team_abbr'], X['season']]).mean().reset_index()\n",
    "away_win_rate = away_win_rate.rename(columns={'home_team_win': 'away_win_rate'})\n",
    "X = X.merge(away_win_rate, on=['away_team_abbr', 'season'], how='left')\n",
    "\n",
    "# 添加主客隊勝率差異欄位\n",
    "X['win_rate_diff'] = X['home_win_rate'] - X['away_win_rate']\n",
    "# X = X.drop(['home_team_abbr', 'away_team_abbr'], axis=1)\n",
    "# print(\n",
    "#     X[X['home_team_abbr'] == 'HXK'][\n",
    "#         ['season', 'home_team_abbr', 'away_team_abbr', 'home_win_rate', 'away_win_rate']\n",
    "#     ].head(10)\n",
    "# )\n",
    "\n",
    "# 處理類別型欄位 -> Encoding\n",
    "# 處理隊伍名稱 - One-Hot Encoding\n",
    "team_features = ['home_team_abbr', 'away_team_abbr']\n",
    "# onehot = OneHotEncoder(sparse_output=False)\n",
    "# team_encoded = onehot.fit_transform(X[team_features])\n",
    "# team_encoded_df = pd.DataFrame(\n",
    "#     team_encoded, \n",
    "#     columns=onehot.get_feature_names_out(team_features),\n",
    "#     index=X.index\n",
    "# )\n",
    "# X = pd.concat([X, team_encoded_df], axis=1)\n",
    "X = X.drop(team_features, axis=1)\n",
    "\n",
    "# 處理投手名字 - Label Encoding\n",
    "# pitcher_features = ['home_pitcher', 'away_pitcher']\n",
    "# label_encoders = {}\n",
    "\n",
    "# for col in pitcher_features:\n",
    "#     le = LabelEncoder()\n",
    "#     X[col] = le.fit_transform(X[col])\n",
    "#     label_encoders[col] = le\n",
    "#     joblib.dump(le, f'label_encoder_{col}.joblib')\n"
   ]
  },
  {
   "cell_type": "code",
   "execution_count": 189,
   "metadata": {},
   "outputs": [],
   "source": [
    "# X = X.assign(\n",
    "#     pitcher_wpa_def_diff=X['home_pitcher_wpa_def_mean'] - X['away_pitcher_wpa_def_mean'],\n",
    "#     batting_batting_avg_10RA_diff=X['home_batting_batting_avg_10RA'] - X['away_batting_batting_avg_10RA'],\n",
    "#     team_wins_mean_diff=X['home_team_wins_mean'] - X['away_team_wins_mean']\n",
    "# )\n",
    "def calculate_home_away_differences(df, drop_original=False):\n",
    "    suffixes = [\"_mean\", \"_std\", \"_skew\", \"_10RA\"]\n",
    "    relevant_columns = [col for col in df.columns if any(col.endswith(suffix) for suffix in suffixes)]\n",
    "    \n",
    "    new_columns = {}\n",
    "    columns_to_drop = []\n",
    "    \n",
    "    for col in relevant_columns:\n",
    "        if col.startswith(\"home_\"):\n",
    "            away_col = col.replace(\"home_\", \"away_\")\n",
    "            if away_col in df.columns:\n",
    "                base_col_name = col.split(\"_\", 1)[1]\n",
    "                new_col_name = base_col_name + \"_diff\"\n",
    "                new_columns[new_col_name] = df[col] - df[away_col]\n",
    "                \n",
    "                if drop_original:\n",
    "                    columns_to_drop.extend([col, away_col])\n",
    "    \n",
    "    df = pd.concat([df, pd.DataFrame(new_columns, index=df.index)], axis=1)\n",
    "    \n",
    "    if drop_original:\n",
    "        df = df.drop(columns=columns_to_drop)\n",
    "    \n",
    "    return df\n",
    "\n",
    "X_copy = X.copy()\n",
    "X = calculate_home_away_differences(X, drop_original=False)"
   ]
  },
  {
   "cell_type": "markdown",
   "metadata": {},
   "source": [
    "# Preprocess for testing data (test_df)"
   ]
  },
  {
   "cell_type": "code",
   "execution_count": 197,
   "metadata": {},
   "outputs": [],
   "source": [
    "test_df = pd.read_csv(\"same_season_test_data.csv\")\n",
    "test_ids = test_df['id'].copy()\n",
    "test_df = test_df.drop(columns=to_drop)"
   ]
  },
  {
   "cell_type": "code",
   "execution_count": null,
   "metadata": {},
   "outputs": [],
   "source": [
    "# 類別型欄位缺失值\n",
    "test_df['is_night_game'] = test_df['is_night_game'].fillna(X_copy['is_night_game'].mode()[0])\n",
    "# test_df['home_pitcher'] = test_df['home_pitcher'].fillna(\"Unknown\")\n",
    "# test_df['away_pitcher'] = test_df['away_pitcher'].fillna(\"Unknown\")\n",
    "# 數值型欄位缺失值\n",
    "rest_season_cols = ['home_team_rest', 'away_team_rest', 'home_pitcher_rest', \n",
    "                    'away_pitcher_rest', 'season']\n",
    "for col in rest_season_cols:\n",
    "    test_df[col] = test_df[col].fillna(X_copy[col].median())\n",
    "\n",
    "ra_cols = [col for col in numeric_cols if col.endswith('_10RA')]\n",
    "for col in ra_cols:\n",
    "    test_df[col] = test_df[col].fillna(X_copy[col].mean())\n",
    "\n",
    "stat_cols = [col for col in numeric_cols if col.endswith(('_mean', '_std', '_skew'))]\n",
    "for col in stat_cols:\n",
    "    test_df[col] = test_df[col].fillna(X_copy[col].mean())\n",
    "\n",
    "test_df = test_df.merge(home_win_rate, on=['home_team_abbr', 'season'], how='left')\n",
    "test_df = test_df.merge(away_win_rate, on=['away_team_abbr', 'season'], how='left')\n",
    "test_df['win_rate_diff'] = test_df['home_win_rate'] - test_df['away_win_rate']\n",
    "# print(\n",
    "#     test_df[test_df['home_team_abbr'] == 'HXK'][\n",
    "#         ['season', 'home_team_abbr', 'away_team_abbr', 'home_win_rate', 'away_win_rate']\n",
    "#     ].head(10)\n",
    "# )\n",
    "# 編碼類別型欄位\n",
    "# One-Hot Encoding 隊伍名稱\n",
    "team_features = ['home_team_abbr', 'away_team_abbr']\n",
    "# team_encoded = onehot.transform(test_df[team_features])\n",
    "# team_encoded_df = pd.DataFrame(\n",
    "#     team_encoded, \n",
    "#     columns=onehot.get_feature_names_out(team_features),\n",
    "#     index=test_df.index\n",
    "# )\n",
    "# test_df = pd.concat([test_df, team_encoded_df], axis=1)\n",
    "test_df = test_df.drop(team_features, axis=1)\n",
    "\n",
    "# Label Encoding 投手名字\n",
    "# pitcher_features = ['home_pitcher', 'away_pitcher']\n",
    "# for col in pitcher_features:\n",
    "#     le = joblib.load(f'label_encoder_{col}.joblib')\n",
    "    \n",
    "#     def safe_transform(val, encoder):\n",
    "#         if val in encoder.classes_:\n",
    "#             return encoder.transform([val])[0]\n",
    "#         else:\n",
    "#             return -1\n",
    "    \n",
    "#     test_df[col] = test_df[col].apply(lambda x: safe_transform(x, le))\n",
    "\n",
    "\n",
    "test_df = test_df.assign(\n",
    "    pitcher_wpa_def_diff = test_df['home_pitcher_wpa_def_mean'] - test_df['away_pitcher_wpa_def_mean'],\n",
    "    batting_batting_avg_10RA_diff = test_df['home_batting_batting_avg_10RA'] - test_df['away_batting_batting_avg_10RA'],\n",
    "    team_wins_mean_diff = test_df['home_team_wins_mean'] - test_df['away_team_wins_mean']\n",
    ")\n",
    "test_df = calculate_home_away_differences(test_df, drop_original=False)\n",
    "print(test_df.shape)"
   ]
  }
 ],
 "metadata": {
  "kernelspec": {
   "display_name": "py11env",
   "language": "python",
   "name": "python3"
  },
  "language_info": {
   "codemirror_mode": {
    "name": "ipython",
    "version": 3
   },
   "file_extension": ".py",
   "mimetype": "text/x-python",
   "name": "python",
   "nbconvert_exporter": "python",
   "pygments_lexer": "ipython3",
   "version": "3.11.10"
  }
 },
 "nbformat": 4,
 "nbformat_minor": 2
}
