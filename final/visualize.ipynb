{
 "cells": [
  {
   "cell_type": "markdown",
   "metadata": {},
   "source": [
    "# Preprocess for training data (X, y)"
   ]
  },
  {
   "cell_type": "code",
   "execution_count": 1,
   "metadata": {},
   "outputs": [],
   "source": [
    "import pandas as pd\n",
    "import numpy as np\n",
    "import matplotlib.pyplot as plt\n",
    "import seaborn as sns\n",
    "import joblib"
   ]
  },
  {
   "cell_type": "code",
   "execution_count": 2,
   "metadata": {},
   "outputs": [],
   "source": [
    "# to_drop = ['id', 'home_team_season', 'away_team_season', 'home_team_abbr', 'away_team_abbr']\n",
    "to_drop = ['id', 'home_team_season', 'away_team_season', 'home_pitcher', 'away_pitcher']"
   ]
  },
  {
   "cell_type": "code",
   "execution_count": 4,
   "metadata": {},
   "outputs": [],
   "source": [
    "df = pd.read_csv(\"./dataset/train_data.csv\")\n",
    "\n",
    "df = df.drop(columns=['date']+to_drop)"
   ]
  },
  {
   "cell_type": "code",
   "execution_count": 5,
   "metadata": {},
   "outputs": [
    {
     "data": {
      "text/plain": [
       "((11067, 160), (11067,))"
      ]
     },
     "execution_count": 5,
     "metadata": {},
     "output_type": "execute_result"
    }
   ],
   "source": [
    "X = df.drop('home_team_win', axis=1)  # Features\n",
    "y = df['home_team_win']  # Label\n",
    "X.shape, y.shape"
   ]
  },
  {
   "cell_type": "code",
   "execution_count": 6,
   "metadata": {},
   "outputs": [
    {
     "name": "stdout",
     "output_type": "stream",
     "text": [
      "Categorical columns:\n",
      "['home_team_abbr', 'away_team_abbr', 'is_night_game']\n",
      "Numeric columns:\n",
      "['home_team_rest', 'away_team_rest', 'home_pitcher_rest', 'away_pitcher_rest', 'season', 'home_batting_batting_avg_10RA', 'home_batting_onbase_perc_10RA', 'home_batting_onbase_plus_slugging_10RA', 'home_batting_leverage_index_avg_10RA', 'home_batting_RBI_10RA', 'away_batting_batting_avg_10RA', 'away_batting_onbase_perc_10RA', 'away_batting_onbase_plus_slugging_10RA', 'away_batting_leverage_index_avg_10RA', 'away_batting_RBI_10RA', 'home_pitching_earned_run_avg_10RA', 'home_pitching_SO_batters_faced_10RA', 'home_pitching_H_batters_faced_10RA', 'home_pitching_BB_batters_faced_10RA', 'away_pitching_earned_run_avg_10RA', 'away_pitching_SO_batters_faced_10RA', 'away_pitching_H_batters_faced_10RA', 'away_pitching_BB_batters_faced_10RA', 'home_pitcher_earned_run_avg_10RA', 'home_pitcher_SO_batters_faced_10RA', 'home_pitcher_H_batters_faced_10RA', 'home_pitcher_BB_batters_faced_10RA', 'away_pitcher_earned_run_avg_10RA', 'away_pitcher_SO_batters_faced_10RA', 'away_pitcher_H_batters_faced_10RA', 'away_pitcher_BB_batters_faced_10RA', 'home_team_errors_mean', 'home_team_errors_std', 'home_team_errors_skew', 'away_team_errors_mean', 'away_team_errors_std', 'away_team_errors_skew', 'home_team_spread_mean', 'home_team_spread_std', 'home_team_spread_skew', 'away_team_spread_mean', 'away_team_spread_std', 'away_team_spread_skew', 'home_team_wins_mean', 'home_team_wins_std', 'home_team_wins_skew', 'away_team_wins_mean', 'away_team_wins_std', 'away_team_wins_skew', 'home_batting_batting_avg_mean', 'home_batting_batting_avg_std', 'home_batting_batting_avg_skew', 'home_batting_onbase_perc_mean', 'home_batting_onbase_perc_std', 'home_batting_onbase_perc_skew', 'home_batting_onbase_plus_slugging_mean', 'home_batting_onbase_plus_slugging_std', 'home_batting_onbase_plus_slugging_skew', 'home_batting_leverage_index_avg_mean', 'home_batting_leverage_index_avg_std', 'home_batting_leverage_index_avg_skew', 'home_batting_wpa_bat_mean', 'home_batting_wpa_bat_std', 'home_batting_wpa_bat_skew', 'home_batting_RBI_mean', 'home_batting_RBI_std', 'home_batting_RBI_skew', 'away_batting_batting_avg_mean', 'away_batting_batting_avg_std', 'away_batting_batting_avg_skew', 'away_batting_onbase_perc_mean', 'away_batting_onbase_perc_std', 'away_batting_onbase_perc_skew', 'away_batting_onbase_plus_slugging_mean', 'away_batting_onbase_plus_slugging_std', 'away_batting_onbase_plus_slugging_skew', 'away_batting_leverage_index_avg_mean', 'away_batting_leverage_index_avg_std', 'away_batting_leverage_index_avg_skew', 'away_batting_wpa_bat_mean', 'away_batting_wpa_bat_std', 'away_batting_wpa_bat_skew', 'away_batting_RBI_mean', 'away_batting_RBI_std', 'away_batting_RBI_skew', 'home_pitching_earned_run_avg_mean', 'home_pitching_earned_run_avg_std', 'home_pitching_earned_run_avg_skew', 'home_pitching_SO_batters_faced_mean', 'home_pitching_SO_batters_faced_std', 'home_pitching_SO_batters_faced_skew', 'home_pitching_H_batters_faced_mean', 'home_pitching_H_batters_faced_std', 'home_pitching_H_batters_faced_skew', 'home_pitching_BB_batters_faced_mean', 'home_pitching_BB_batters_faced_std', 'home_pitching_BB_batters_faced_skew', 'home_pitching_leverage_index_avg_mean', 'home_pitching_leverage_index_avg_std', 'home_pitching_leverage_index_avg_skew', 'home_pitching_wpa_def_mean', 'home_pitching_wpa_def_std', 'home_pitching_wpa_def_skew', 'away_pitching_earned_run_avg_mean', 'away_pitching_earned_run_avg_std', 'away_pitching_earned_run_avg_skew', 'away_pitching_SO_batters_faced_mean', 'away_pitching_SO_batters_faced_std', 'away_pitching_SO_batters_faced_skew', 'away_pitching_H_batters_faced_mean', 'away_pitching_H_batters_faced_std', 'away_pitching_H_batters_faced_skew', 'away_pitching_BB_batters_faced_mean', 'away_pitching_BB_batters_faced_std', 'away_pitching_BB_batters_faced_skew', 'away_pitching_leverage_index_avg_mean', 'away_pitching_leverage_index_avg_std', 'away_pitching_leverage_index_avg_skew', 'away_pitching_wpa_def_mean', 'away_pitching_wpa_def_std', 'away_pitching_wpa_def_skew', 'home_pitcher_earned_run_avg_mean', 'home_pitcher_earned_run_avg_std', 'home_pitcher_earned_run_avg_skew', 'home_pitcher_SO_batters_faced_mean', 'home_pitcher_SO_batters_faced_std', 'home_pitcher_SO_batters_faced_skew', 'home_pitcher_H_batters_faced_mean', 'home_pitcher_H_batters_faced_std', 'home_pitcher_H_batters_faced_skew', 'home_pitcher_BB_batters_faced_mean', 'home_pitcher_BB_batters_faced_std', 'home_pitcher_BB_batters_faced_skew', 'home_pitcher_leverage_index_avg_mean', 'home_pitcher_leverage_index_avg_std', 'home_pitcher_leverage_index_avg_skew', 'home_pitcher_wpa_def_mean', 'home_pitcher_wpa_def_std', 'home_pitcher_wpa_def_skew', 'away_pitcher_earned_run_avg_mean', 'away_pitcher_earned_run_avg_std', 'away_pitcher_earned_run_avg_skew', 'away_pitcher_SO_batters_faced_mean', 'away_pitcher_SO_batters_faced_std', 'away_pitcher_SO_batters_faced_skew', 'away_pitcher_H_batters_faced_mean', 'away_pitcher_H_batters_faced_std', 'away_pitcher_H_batters_faced_skew', 'away_pitcher_BB_batters_faced_mean', 'away_pitcher_BB_batters_faced_std', 'away_pitcher_BB_batters_faced_skew', 'away_pitcher_leverage_index_avg_mean', 'away_pitcher_leverage_index_avg_std', 'away_pitcher_leverage_index_avg_skew', 'away_pitcher_wpa_def_mean', 'away_pitcher_wpa_def_std', 'away_pitcher_wpa_def_skew']\n"
     ]
    }
   ],
   "source": [
    "# 哪些是類別型欄位\n",
    "categorical_cols = X.select_dtypes(exclude=\"number\").columns\n",
    "print(\"Categorical columns:\")\n",
    "print(categorical_cols.tolist())\n",
    "# 哪些是數值型欄位\n",
    "numeric_cols = X.select_dtypes(include=\"number\").columns\n",
    "print(\"Numeric columns:\")\n",
    "print(numeric_cols.tolist())"
   ]
  },
  {
   "cell_type": "code",
   "execution_count": 7,
   "metadata": {},
   "outputs": [
    {
     "name": "stderr",
     "output_type": "stream",
     "text": [
      "/var/folders/wn/tzxvwk5j605dhv8nv9p2hf_c0000gn/T/ipykernel_25668/2361927446.py:3: FutureWarning: Downcasting object dtype arrays on .fillna, .ffill, .bfill is deprecated and will change in a future version. Call result.infer_objects(copy=False) instead. To opt-in to the future behavior, set `pd.set_option('future.no_silent_downcasting', True)`\n",
      "  X['is_night_game'] = X['is_night_game'].fillna(X['is_night_game'].mode()[0])\n"
     ]
    }
   ],
   "source": [
    "# 處理類別型欄位缺失值\n",
    "# 處理 是否晚場賽事：眾數\n",
    "X['is_night_game'] = X['is_night_game'].fillna(X['is_night_game'].mode()[0])\n",
    "\n",
    "# 處理 主、客投手：Unknown\n",
    "# X['home_pitcher'] = X['home_pitcher'].fillna(\"Unknown\")\n",
    "# X['away_pitcher'] = X['away_pitcher'].fillna(\"Unknown\")\n",
    "\n",
    "# -------------------------------------------\n",
    "# 處理數值型欄位缺失值\n",
    "# 處理 休息天數 和 賽季：中位數\n",
    "rest_season_cols = ['home_team_rest', 'away_team_rest', 'home_pitcher_rest', \n",
    "                   'away_pitcher_rest', 'season']\n",
    "for col in rest_season_cols:\n",
    "    X[col] = X[col].fillna(X[col].median())\n",
    "\n",
    "# 處理 _10RA：平均數\n",
    "ra_cols = [col for col in numeric_cols if col.endswith('_10RA')]\n",
    "for col in ra_cols:\n",
    "    X[col] = X[col].fillna(X[col].mean())\n",
    "\n",
    "# 處理 統計數據：平均數\n",
    "stat_cols = [col for col in numeric_cols if col.endswith(('_mean', '_std', '_skew'))]\n",
    "for col in stat_cols:\n",
    "    X[col] = X[col].fillna(X[col].mean())"
   ]
  },
  {
   "cell_type": "code",
   "execution_count": 8,
   "metadata": {},
   "outputs": [
    {
     "data": {
      "text/plain": [
       "((11067, 160), (11067,))"
      ]
     },
     "execution_count": 8,
     "metadata": {},
     "output_type": "execute_result"
    }
   ],
   "source": [
    "X.shape, y.shape"
   ]
  },
  {
   "cell_type": "code",
   "execution_count": 9,
   "metadata": {},
   "outputs": [],
   "source": [
    "from sklearn.preprocessing import LabelEncoder, OneHotEncoder\n",
    "\n",
    "# 添加主客隊勝率欄位\n",
    "home_win_rate = y.groupby([X['home_team_abbr'], X['season']]).mean().reset_index()\n",
    "home_win_rate = home_win_rate.rename(columns={'home_team_win': 'home_win_rate'})\n",
    "X = X.merge(home_win_rate, on=['home_team_abbr', 'season'], how='left')\n",
    "away_win_rate = (1 - y).groupby([X['away_team_abbr'], X['season']]).mean().reset_index()\n",
    "away_win_rate = away_win_rate.rename(columns={'home_team_win': 'away_win_rate'})\n",
    "X = X.merge(away_win_rate, on=['away_team_abbr', 'season'], how='left')\n",
    "\n",
    "# 添加主客隊勝率差異欄位\n",
    "X['win_rate_diff'] = X['home_win_rate'] - X['away_win_rate']\n",
    "# X = X.drop(['home_team_abbr', 'away_team_abbr'], axis=1)\n",
    "# print(\n",
    "#     X[X['home_team_abbr'] == 'HXK'][\n",
    "#         ['season', 'home_team_abbr', 'away_team_abbr', 'home_win_rate', 'away_win_rate']\n",
    "#     ].head(10)\n",
    "# )\n",
    "\n",
    "# 處理類別型欄位 -> Encoding\n",
    "# 處理隊伍名稱 - One-Hot Encoding\n",
    "team_features = ['home_team_abbr', 'away_team_abbr']\n",
    "# onehot = OneHotEncoder(sparse_output=False)\n",
    "# team_encoded = onehot.fit_transform(X[team_features])\n",
    "# team_encoded_df = pd.DataFrame(\n",
    "#     team_encoded, \n",
    "#     columns=onehot.get_feature_names_out(team_features),\n",
    "#     index=X.index\n",
    "# )\n",
    "# X = pd.concat([X, team_encoded_df], axis=1)\n",
    "X = X.drop(team_features, axis=1)\n",
    "\n",
    "# 處理投手名字 - Label Encoding\n",
    "# pitcher_features = ['home_pitcher', 'away_pitcher']\n",
    "# label_encoders = {}\n",
    "\n",
    "# for col in pitcher_features:\n",
    "#     le = LabelEncoder()\n",
    "#     X[col] = le.fit_transform(X[col])\n",
    "#     label_encoders[col] = le\n",
    "#     joblib.dump(le, f'label_encoder_{col}.joblib')\n"
   ]
  },
  {
   "cell_type": "code",
   "execution_count": 10,
   "metadata": {},
   "outputs": [],
   "source": [
    "# X = X.assign(\n",
    "#     pitcher_wpa_def_diff=X['home_pitcher_wpa_def_mean'] - X['away_pitcher_wpa_def_mean'],\n",
    "#     batting_batting_avg_10RA_diff=X['home_batting_batting_avg_10RA'] - X['away_batting_batting_avg_10RA'],\n",
    "#     team_wins_mean_diff=X['home_team_wins_mean'] - X['away_team_wins_mean']\n",
    "# )\n",
    "def calculate_home_away_differences(df, drop_original=False):\n",
    "    suffixes = [\"_mean\", \"_std\", \"_skew\", \"_10RA\"]\n",
    "    relevant_columns = [col for col in df.columns if any(col.endswith(suffix) for suffix in suffixes)]\n",
    "    \n",
    "    new_columns = {}\n",
    "    columns_to_drop = []\n",
    "    \n",
    "    for col in relevant_columns:\n",
    "        if col.startswith(\"home_\"):\n",
    "            away_col = col.replace(\"home_\", \"away_\")\n",
    "            if away_col in df.columns:\n",
    "                base_col_name = col.split(\"_\", 1)[1]\n",
    "                new_col_name = base_col_name + \"_diff\"\n",
    "                new_columns[new_col_name] = df[col] - df[away_col]\n",
    "                \n",
    "                if drop_original:\n",
    "                    columns_to_drop.extend([col, away_col])\n",
    "    \n",
    "    df = pd.concat([df, pd.DataFrame(new_columns, index=df.index)], axis=1)\n",
    "    \n",
    "    if drop_original:\n",
    "        df = df.drop(columns=columns_to_drop)\n",
    "    \n",
    "    return df\n",
    "\n",
    "X_copy = X.copy()\n",
    "X = calculate_home_away_differences(X, drop_original=False)"
   ]
  },
  {
   "cell_type": "markdown",
   "metadata": {},
   "source": [
    "# Preprocess for testing data (test_df)"
   ]
  },
  {
   "cell_type": "code",
   "execution_count": 11,
   "metadata": {},
   "outputs": [],
   "source": [
    "test_df = pd.read_csv(\"./dataset/same_season_test_data.csv\")\n",
    "test_ids = test_df['id'].copy()\n",
    "test_df = test_df.drop(columns=to_drop)"
   ]
  },
  {
   "cell_type": "code",
   "execution_count": 12,
   "metadata": {},
   "outputs": [
    {
     "name": "stdout",
     "output_type": "stream",
     "text": [
      "(6185, 240)\n"
     ]
    },
    {
     "name": "stderr",
     "output_type": "stream",
     "text": [
      "/var/folders/wn/tzxvwk5j605dhv8nv9p2hf_c0000gn/T/ipykernel_25668/3658282067.py:2: FutureWarning: Downcasting object dtype arrays on .fillna, .ffill, .bfill is deprecated and will change in a future version. Call result.infer_objects(copy=False) instead. To opt-in to the future behavior, set `pd.set_option('future.no_silent_downcasting', True)`\n",
      "  test_df['is_night_game'] = test_df['is_night_game'].fillna(X_copy['is_night_game'].mode()[0])\n"
     ]
    }
   ],
   "source": [
    "# 類別型欄位缺失值\n",
    "test_df['is_night_game'] = test_df['is_night_game'].fillna(X_copy['is_night_game'].mode()[0])\n",
    "# test_df['home_pitcher'] = test_df['home_pitcher'].fillna(\"Unknown\")\n",
    "# test_df['away_pitcher'] = test_df['away_pitcher'].fillna(\"Unknown\")\n",
    "# 數值型欄位缺失值\n",
    "rest_season_cols = ['home_team_rest', 'away_team_rest', 'home_pitcher_rest', \n",
    "                    'away_pitcher_rest', 'season']\n",
    "for col in rest_season_cols:\n",
    "    test_df[col] = test_df[col].fillna(X_copy[col].median())\n",
    "\n",
    "ra_cols = [col for col in numeric_cols if col.endswith('_10RA')]\n",
    "for col in ra_cols:\n",
    "    test_df[col] = test_df[col].fillna(X_copy[col].mean())\n",
    "\n",
    "stat_cols = [col for col in numeric_cols if col.endswith(('_mean', '_std', '_skew'))]\n",
    "for col in stat_cols:\n",
    "    test_df[col] = test_df[col].fillna(X_copy[col].mean())\n",
    "\n",
    "test_df = test_df.merge(home_win_rate, on=['home_team_abbr', 'season'], how='left')\n",
    "test_df = test_df.merge(away_win_rate, on=['away_team_abbr', 'season'], how='left')\n",
    "test_df['win_rate_diff'] = test_df['home_win_rate'] - test_df['away_win_rate']\n",
    "# print(\n",
    "#     test_df[test_df['home_team_abbr'] == 'HXK'][\n",
    "#         ['season', 'home_team_abbr', 'away_team_abbr', 'home_win_rate', 'away_win_rate']\n",
    "#     ].head(10)\n",
    "# )\n",
    "# 編碼類別型欄位\n",
    "# One-Hot Encoding 隊伍名稱\n",
    "team_features = ['home_team_abbr', 'away_team_abbr']\n",
    "# team_encoded = onehot.transform(test_df[team_features])\n",
    "# team_encoded_df = pd.DataFrame(\n",
    "#     team_encoded, \n",
    "#     columns=onehot.get_feature_names_out(team_features),\n",
    "#     index=test_df.index\n",
    "# )\n",
    "# test_df = pd.concat([test_df, team_encoded_df], axis=1)\n",
    "test_df = test_df.drop(team_features, axis=1)\n",
    "\n",
    "# Label Encoding 投手名字\n",
    "# pitcher_features = ['home_pitcher', 'away_pitcher']\n",
    "# for col in pitcher_features:\n",
    "#     le = joblib.load(f'label_encoder_{col}.joblib')\n",
    "    \n",
    "#     def safe_transform(val, encoder):\n",
    "#         if val in encoder.classes_:\n",
    "#             return encoder.transform([val])[0]\n",
    "#         else:\n",
    "#             return -1\n",
    "    \n",
    "#     test_df[col] = test_df[col].apply(lambda x: safe_transform(x, le))\n",
    "\n",
    "\n",
    "test_df = test_df.assign(\n",
    "    pitcher_wpa_def_diff = test_df['home_pitcher_wpa_def_mean'] - test_df['away_pitcher_wpa_def_mean'],\n",
    "    batting_batting_avg_10RA_diff = test_df['home_batting_batting_avg_10RA'] - test_df['away_batting_batting_avg_10RA'],\n",
    "    team_wins_mean_diff = test_df['home_team_wins_mean'] - test_df['away_team_wins_mean']\n",
    ")\n",
    "test_df = calculate_home_away_differences(test_df, drop_original=False)\n",
    "print(test_df.shape)"
   ]
  },
  {
   "cell_type": "code",
   "execution_count": 13,
   "metadata": {},
   "outputs": [],
   "source": [
    "import pandas as pd\n",
    "from catboost import CatBoostClassifier\n",
    "from sklearn.model_selection import train_test_split\n",
    "from sklearn.metrics import accuracy_score\n",
    "from sklearn.preprocessing import LabelEncoder\n",
    "from sklearn.ensemble import StackingClassifier\n",
    "from sklearn.linear_model import LogisticRegression\n",
    "from xgboost import XGBClassifier\n",
    "from sklearn.tree import DecisionTreeClassifier\n",
    "from sklearn.ensemble import GradientBoostingClassifier\n",
    "from sklearn.neural_network import MLPClassifier\n",
    "from sklearn.naive_bayes import GaussianNB\n",
    "from sklearn.svm import SVC\n",
    "from sklearn.neighbors import KNeighborsClassifier\n",
    "import joblib"
   ]
  },
  {
   "cell_type": "code",
   "execution_count": null,
   "metadata": {},
   "outputs": [
    {
     "name": "stderr",
     "output_type": "stream",
     "text": [
      "/Library/Frameworks/Python.framework/Versions/3.12/lib/python3.12/site-packages/xgboost/core.py:158: UserWarning: [18:05:33] WARNING: /Users/runner/work/xgboost/xgboost/src/learner.cc:740: \n",
      "Parameters: { \"use_label_encoder\" } are not used.\n",
      "\n",
      "  warnings.warn(smsg, UserWarning)\n",
      "/Library/Frameworks/Python.framework/Versions/3.12/lib/python3.12/site-packages/xgboost/core.py:158: UserWarning: [18:06:26] WARNING: /Users/runner/work/xgboost/xgboost/src/learner.cc:740: \n",
      "Parameters: { \"use_label_encoder\" } are not used.\n",
      "\n",
      "  warnings.warn(smsg, UserWarning)\n",
      "/Library/Frameworks/Python.framework/Versions/3.12/lib/python3.12/site-packages/xgboost/core.py:158: UserWarning: [18:06:26] WARNING: /Users/runner/work/xgboost/xgboost/src/learner.cc:740: \n",
      "Parameters: { \"use_label_encoder\" } are not used.\n",
      "\n",
      "  warnings.warn(smsg, UserWarning)\n",
      "/Library/Frameworks/Python.framework/Versions/3.12/lib/python3.12/site-packages/xgboost/core.py:158: UserWarning: [18:06:27] WARNING: /Users/runner/work/xgboost/xgboost/src/learner.cc:740: \n",
      "Parameters: { \"use_label_encoder\" } are not used.\n",
      "\n",
      "  warnings.warn(smsg, UserWarning)\n",
      "/Library/Frameworks/Python.framework/Versions/3.12/lib/python3.12/site-packages/xgboost/core.py:158: UserWarning: [18:06:28] WARNING: /Users/runner/work/xgboost/xgboost/src/learner.cc:740: \n",
      "Parameters: { \"use_label_encoder\" } are not used.\n",
      "\n",
      "  warnings.warn(smsg, UserWarning)\n",
      "/Library/Frameworks/Python.framework/Versions/3.12/lib/python3.12/site-packages/xgboost/core.py:158: UserWarning: [18:06:29] WARNING: /Users/runner/work/xgboost/xgboost/src/learner.cc:740: \n",
      "Parameters: { \"use_label_encoder\" } are not used.\n",
      "\n",
      "  warnings.warn(smsg, UserWarning)\n"
     ]
    }
   ],
   "source": [
    "# Data\n",
    "label_encoder = LabelEncoder()\n",
    "X_train, X_val, y_train, y_val = train_test_split(X, y, test_size=0.2, random_state=42)\n",
    "# categorical_columns = ['home_team_abbr', 'away_team_abbr', 'home_pitcher', 'away_pitcher', 'home_team_season', 'away_team_season']\n",
    "\n",
    "# Model\n",
    "base_models = [\n",
    "    ('xgb', XGBClassifier(use_label_encoder=False, eval_metric='logloss', random_state=42)),\n",
    "    ('catboost', CatBoostClassifier(iterations=100, learning_rate=0.01, depth=11, verbose=0, random_state=42)),\n",
    "    ('decision_tree', DecisionTreeClassifier(random_state=42)),\n",
    "    ('gradient_boosting', GradientBoostingClassifier(random_state=42)),\n",
    "    #('mlp', MLPClassifier(random_state=42, max_iter=1000)),\n",
    "    #('naive_bayes', GaussianNB()),\n",
    "    #('knn', KNeighborsClassifier()),\n",
    "    #('svm', SVC(probability=True, random_state=42))\n",
    "]\n",
    "\n",
    "final_estimator = LogisticRegression(max_iter=1000, random_state=42)\n",
    "\n",
    "stacking_model = StackingClassifier(estimators=base_models, final_estimator=final_estimator, cv=5)\n",
    "stacking_model.fit(X_train, y_train)\n",
    "\n",
    "y_val_pred = stacking_model.predict(X_val)\n",
    "\n",
    "validation_accuracy = accuracy_score(y_val, y_val_pred)\n",
    "print(validation_accuracy)\n",
    "\n",
    "model_path = 'stacking_model.pkl'\n",
    "joblib.dump(stacking_model, model_path)\n",
    "\n",
    "# # Prediction\n",
    "# test_data_path = 'dataset/same_season_test_data.csv'\n",
    "# test_data = pd.read_csv(test_data_path)\n",
    "\n",
    "# for col in categorical_columns:\n",
    "#     if col in test_data.columns:\n",
    "#         test_data[col] = label_encoder.fit_transform(test_data[col].astype(str))\n",
    "\n",
    "# for col in test_data.columns:\n",
    "#     if test_data[col].dtype in ['int64', 'float64']:\n",
    "#         test_data[col] = test_data[col].fillna(test_data[col].mean())\n",
    "#     else:\n",
    "#         test_data[col] = test_data[col].fillna(test_data[col].mode()[0])\n",
    "\n",
    "# X_test_final = test_data.drop(columns=['id'])\n",
    "\n",
    "# y_test_pred = stacking_model.predict(X_test_final)\n",
    "\n",
    "# # Submissios\n",
    "# submission_template_path = 'dataset/same_season_sample_submission.csv'\n",
    "# submission = pd.read_csv(submission_template_path)\n",
    "# submission['home_team_win'] = ['TRUE' if pred else 'FALSE' for pred in y_test_pred.astype(bool)]\n",
    "\n",
    "# submission_output_path = 'submission.csv'\n",
    "# submission.to_csv(submission_output_path, index=False)"
   ]
  }
 ],
 "metadata": {
  "kernelspec": {
   "display_name": "Python 3",
   "language": "python",
   "name": "python3"
  },
  "language_info": {
   "codemirror_mode": {
    "name": "ipython",
    "version": 3
   },
   "file_extension": ".py",
   "mimetype": "text/x-python",
   "name": "python",
   "nbconvert_exporter": "python",
   "pygments_lexer": "ipython3",
   "version": "3.12.6"
  }
 },
 "nbformat": 4,
 "nbformat_minor": 2
}
